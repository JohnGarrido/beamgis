{
 "cells": [
  {
   "cell_type": "code",
   "execution_count": 20,
   "id": "96d12cf3",
   "metadata": {},
   "outputs": [],
   "source": [
    "import apache_beam as beam\n",
    "from apache_beam.runners.interactive import interactive_runner\n",
    "import apache_beam.runners.interactive.interactive_beam as ib\n",
    "from apache_beam.transforms import trigger\n",
    "from apache_beam.options import pipeline_options\n",
    "from apache_beam.options.pipeline_options import GoogleCloudOptions\n",
    "\n",
    "import google.auth\n",
    "import json\n",
    "import pandas as pd\n",
    "\n",
    "import json\n",
    "import datetime\n",
    "from shapely import geometry"
   ]
  },
  {
   "cell_type": "code",
   "execution_count": 21,
   "id": "9ad48e30",
   "metadata": {},
   "outputs": [],
   "source": [
    "# Setting up the Beam pipeline options\n",
    "options = pipeline_options.PipelineOptions()\n",
    "\n",
    "# Sets the pipeline mode to streaming\n",
    "options.view_as(pipeline_options.StandardOptions).streaming = True\n",
    "\n",
    "# Auth\n",
    "_, options.view_as(GoogleCloudOptions).project = google.auth.default()"
   ]
  },
  {
   "cell_type": "code",
   "execution_count": 22,
   "id": "5d7a5ad5",
   "metadata": {},
   "outputs": [],
   "source": [
    "# Recording Duration\n",
    "ib.options.recording_duration = \"2m\""
   ]
  },
  {
   "cell_type": "code",
   "execution_count": 23,
   "id": "224d0f40",
   "metadata": {},
   "outputs": [],
   "source": [
    "class EventParser(beam.DoFn):\n",
    "    def process(self, element):\n",
    "        self.element = element\n",
    "        \n",
    "        element = json.loads(element)\n",
    "        \n",
    "        parsed = {\n",
    "            \"coordinates\":geometry.Point(element[\"position\"][\"geographic\"][\"coordinates\"]),\n",
    "            \"eventTimeStamp\":element[\"eventDateTime\"]\n",
    "        }\n",
    "        \n",
    "        yield parsed"
   ]
  },
  {
   "cell_type": "code",
   "execution_count": 24,
   "id": "51aeec7b",
   "metadata": {},
   "outputs": [],
   "source": [
    "def map_with_area(event, side_input):\n",
    "    point = event[\"coordinates\"]\n",
    "    \n",
    "    location = {\n",
    "        \"coordinates\":point\n",
    "    }\n",
    "    \n",
    "    for area in side_input:\n",
    "        coordinate = area[\"coordinates\"]\n",
    "        name = area[\"name\"]\n",
    "        if(coordinate.contains(point)):\n",
    "            location[\"name\"] = name\n",
    "            return [location]\n",
    "        else:\n",
    "            continue"
   ]
  },
  {
   "cell_type": "code",
   "execution_count": 26,
   "id": "e88ee96a",
   "metadata": {},
   "outputs": [
    {
     "ename": "RuntimeError",
     "evalue": "A transform with label \"[26]: Map(print)\" already exists in the pipeline. To apply a transform with a specified label write pvalue | \"label\" >> transform",
     "output_type": "error",
     "traceback": [
      "\u001b[0;31m---------------------------------------------------------------------------\u001b[0m",
      "\u001b[0;31mRuntimeError\u001b[0m                              Traceback (most recent call last)",
      "\u001b[0;32m<ipython-input-26-4d33fac4a20a>\u001b[0m in \u001b[0;36m<module>\u001b[0;34m\u001b[0m\n\u001b[1;32m     38\u001b[0m       | beam.FlatMap(map_with_area, \n\u001b[1;32m     39\u001b[0m                      side_input=beam.pvalue.AsList(p_areas))\n\u001b[0;32m---> 40\u001b[0;31m       \u001b[0;34m|\u001b[0m \u001b[0mbeam\u001b[0m\u001b[0;34m.\u001b[0m\u001b[0mMap\u001b[0m\u001b[0;34m(\u001b[0m\u001b[0mprint\u001b[0m\u001b[0;34m)\u001b[0m\u001b[0;34m\u001b[0m\u001b[0;34m\u001b[0m\u001b[0m\n\u001b[0m\u001b[1;32m     41\u001b[0m   )\n",
      "\u001b[0;32m~/apache-beam-2.30.0/lib/python3.7/site-packages/apache_beam/pvalue.py\u001b[0m in \u001b[0;36m__or__\u001b[0;34m(self, ptransform)\u001b[0m\n\u001b[1;32m    140\u001b[0m \u001b[0;34m\u001b[0m\u001b[0m\n\u001b[1;32m    141\u001b[0m   \u001b[0;32mdef\u001b[0m \u001b[0m__or__\u001b[0m\u001b[0;34m(\u001b[0m\u001b[0mself\u001b[0m\u001b[0;34m,\u001b[0m \u001b[0mptransform\u001b[0m\u001b[0;34m)\u001b[0m\u001b[0;34m:\u001b[0m\u001b[0;34m\u001b[0m\u001b[0;34m\u001b[0m\u001b[0m\n\u001b[0;32m--> 142\u001b[0;31m     \u001b[0;32mreturn\u001b[0m \u001b[0mself\u001b[0m\u001b[0;34m.\u001b[0m\u001b[0mpipeline\u001b[0m\u001b[0;34m.\u001b[0m\u001b[0mapply\u001b[0m\u001b[0;34m(\u001b[0m\u001b[0mptransform\u001b[0m\u001b[0;34m,\u001b[0m \u001b[0mself\u001b[0m\u001b[0;34m)\u001b[0m\u001b[0;34m\u001b[0m\u001b[0;34m\u001b[0m\u001b[0m\n\u001b[0m\u001b[1;32m    143\u001b[0m \u001b[0;34m\u001b[0m\u001b[0m\n\u001b[1;32m    144\u001b[0m \u001b[0;34m\u001b[0m\u001b[0m\n",
      "\u001b[0;32m~/apache-beam-2.30.0/lib/python3.7/site-packages/apache_beam/pipeline.py\u001b[0m in \u001b[0;36mapply\u001b[0;34m(self, transform, pvalueish, label)\u001b[0m\n\u001b[1;32m    666\u001b[0m           \u001b[0;34m'A transform with label \"%s\" already exists in the pipeline. '\u001b[0m\u001b[0;34m\u001b[0m\u001b[0;34m\u001b[0m\u001b[0m\n\u001b[1;32m    667\u001b[0m           \u001b[0;34m'To apply a transform with a specified label write '\u001b[0m\u001b[0;34m\u001b[0m\u001b[0;34m\u001b[0m\u001b[0m\n\u001b[0;32m--> 668\u001b[0;31m           'pvalue | \"label\" >> transform' % full_label)\n\u001b[0m\u001b[1;32m    669\u001b[0m     \u001b[0mself\u001b[0m\u001b[0;34m.\u001b[0m\u001b[0mapplied_labels\u001b[0m\u001b[0;34m.\u001b[0m\u001b[0madd\u001b[0m\u001b[0;34m(\u001b[0m\u001b[0mfull_label\u001b[0m\u001b[0;34m)\u001b[0m\u001b[0;34m\u001b[0m\u001b[0;34m\u001b[0m\u001b[0m\n\u001b[1;32m    670\u001b[0m \u001b[0;34m\u001b[0m\u001b[0m\n",
      "\u001b[0;31mRuntimeError\u001b[0m: A transform with label \"[26]: Map(print)\" already exists in the pipeline. To apply a transform with a specified label write pvalue | \"label\" >> transform"
     ]
    }
   ],
   "source": [
    "with beam.Pipeline(options=options) as pipeline:\n",
    "  \n",
    "  # Defining Paths\n",
    "  areas_path = \"gs://de-team-bucket/data/areas_noZ.json\"\n",
    "  event_topic = \"projects/garrido-ml-demos/topics/user-location\"\n",
    "\n",
    "  # Raw Collections\n",
    "  areas = pipeline | \"Read Areas\" >> beam.io.ReadFromText(areas_path)\n",
    "  events = pipeline | \"Read Events\" >> beam.io.ReadFromPubSub(event_topic) \n",
    "\n",
    "  # Parsing Areas (Batch)\n",
    "  p_areas = (\n",
    "     areas\n",
    "     | beam.Map(print)\n",
    "     | \"Load Areas\" >> beam.Map(json.loads)\n",
    "     | \"Array to Polygon\" >> beam.Map(lambda e: [e[\"properties\"][\"name\"],\n",
    "                            json.loads(e[\"geometry\"])[\"coordinates\"]])\n",
    "     | \"Flatten\" >> beam.Map(lambda e: \n",
    "                               {\n",
    "                                \"name\":e[0], \n",
    "                                \"coordinates\":geometry.Polygon(e[1][0])\n",
    "                                })\n",
    "  )\n",
    "\n",
    "  # Parsing Events (Streaming)  \n",
    "  p_point = (\n",
    "    events\n",
    "    | \"Windowing Point (5 seconds)\" >> beam.WindowInto(beam.window.FixedWindows(5))  \n",
    "    | \"Process Event\" >> beam.ParDo(EventParser())\n",
    "  )\n",
    "  \n",
    "  # Getting location\n",
    "  p_location = (\n",
    "      p_point\n",
    "      | \"Windowing Location (5 seconds)\" >> beam.WindowInto(beam.window.FixedWindows(5))\n",
    "      | beam.FlatMap(map_with_area, \n",
    "                     side_input=beam.pvalue.AsList(p_areas))\n",
    "      | beam.Map(print)\n",
    "  )"
   ]
  }
 ],
 "metadata": {
  "kernelspec": {
   "display_name": "2. Apache Beam 2.30.0 for Python 3",
   "language": "python",
   "name": "2-apache-beam-2.30.0"
  },
  "language_info": {
   "codemirror_mode": {
    "name": "ipython",
    "version": 3
   },
   "file_extension": ".py",
   "mimetype": "text/x-python",
   "name": "python",
   "nbconvert_exporter": "python",
   "pygments_lexer": "ipython3",
   "version": "3.7.10"
  }
 },
 "nbformat": 4,
 "nbformat_minor": 5
}
